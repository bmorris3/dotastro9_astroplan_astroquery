{
 "cells": [
  {
   "cell_type": "markdown",
   "metadata": {
    "deletable": true,
    "editable": true
   },
   "source": [
    "![astropy logo](http://astropy.readthedocs.org/en/stable/_images/astropy_banner.svg)\n",
    "\n",
    "<br /><br />\n",
    "\n",
    "\n",
    "# [`astroquery`](https://astroquery.readthedocs.io) <a id='astroquery'></a>\n",
    "\n",
    "\n",
    "\n",
    "`astroquery` allows you to query astronomical databases with ease. \n",
    "\n",
    "\n",
    "\n",
    "## Table of contents\n",
    "* [astroquery](#astroquery)\n",
    "  * [SIMBAD queries](#simbad)\n",
    "  * [Vizier queries](#vizier)\n",
    "\n",
    "<br /><br />\n",
    "\n",
    "### SIMBAD: [`astroquery.simbad`](http://astroquery.readthedocs.io/en/latest/simbad/simbad.html)<a id='simbad'></a>\n",
    "\n",
    "\n",
    "Suppose you're about to observe the exoplanet host star HD 189733, and you'd like to know its: \n",
    "\n",
    "* position\n",
    "* $B$ and $V$ colors\n",
    "* spectral type\n",
    "\n",
    "All of this information is easily accessible via the [SIMBAD Astronomical Database](http://simbad.u-strasbg.fr).\n",
    "\n",
    "Let's query for the SIMBAD for this object (a star):"
   ]
  },
  {
   "cell_type": "code",
   "execution_count": null,
   "metadata": {
    "collapsed": false,
    "deletable": true,
    "editable": true
   },
   "outputs": [],
   "source": [
    "from astroquery.simbad import Simbad\n",
    "\n",
    "identifier = 'HD 189733'\n",
    "\n",
    "result = Simbad.query_object(identifier)\n",
    "result"
   ]
  },
  {
   "cell_type": "markdown",
   "metadata": {
    "deletable": true,
    "editable": true
   },
   "source": [
    "You can see that some basic information is returned in an [`Table`](http://docs.astropy.org/en/stable/table/) object. We can create an [`SkyCoord`](http://docs.astropy.org/en/stable/api/astropy.coordinates.SkyCoord.html#astropy.coordinates.SkyCoord) object to describe its position by accessing the `ra` and `dec` columns:"
   ]
  },
  {
   "cell_type": "code",
   "execution_count": null,
   "metadata": {
    "collapsed": false,
    "deletable": true,
    "editable": true
   },
   "outputs": [],
   "source": [
    "from astropy.coordinates import SkyCoord, Angle\n",
    "import astropy.units as u\n",
    "\n",
    "# Use astropy.coordinates.Angle class to parse the position strings:\n",
    "ra = Angle(result['RA'][0], u.hourangle)\n",
    "dec = Angle(result['DEC'][0], u.degree)\n",
    "\n",
    "# Initialize a astropy.coordinates.SkyCoord object for HD 189733\n",
    "position = SkyCoord(ra=ra, dec=dec)\n",
    "\n",
    "print(position)"
   ]
  },
  {
   "cell_type": "markdown",
   "metadata": {
    "deletable": true,
    "editable": true
   },
   "source": [
    "The default SIMBAD query table includes position and proper motion, but doesn't include the colors and spectral type. You can add custom query parameters if you know their field names, [which are defined here](http://simbad.u-strasbg.fr/simbad/sim-help?Page=sim-fscript#VotableFields):"
   ]
  },
  {
   "cell_type": "code",
   "execution_count": null,
   "metadata": {
    "collapsed": false,
    "deletable": true,
    "editable": true
   },
   "outputs": [],
   "source": [
    "from astroquery.simbad import Simbad\n",
    "\n",
    "# We're going to create a custom instance of the SIMBAD class:\n",
    "s = Simbad()\n",
    "\n",
    "# We're going to add fields to the VOTable for spectral type:\n",
    "s.add_votable_fields('sptype')\n",
    "\n",
    "# ...and for the B and V magnitudes: \n",
    "s.add_votable_fields('flux(B)')\n",
    "s.add_votable_fields('flux(V)')\n",
    "\n",
    "# Now let's query for the object on our new SIMBAD instance:\n",
    "result = s.query_object(identifier)\n",
    "result"
   ]
  },
  {
   "cell_type": "markdown",
   "metadata": {
    "deletable": true,
    "editable": true
   },
   "source": [
    "The properties we requested are listed in the columns `SP_TYPE`, `FLUX_B` and `FLUX_V`."
   ]
  },
  {
   "cell_type": "code",
   "execution_count": null,
   "metadata": {
    "collapsed": false,
    "deletable": true,
    "editable": true
   },
   "outputs": [],
   "source": [
    "sptype = result['SP_TYPE'][0].decode()\n",
    "b = result['FLUX_B'][0]\n",
    "v = result['FLUX_V'][0]\n",
    "\n",
    "print(\"Spectral type: {0}\".format(sptype))\n",
    "print(\"B = {0}\".format(b))\n",
    "print(\"V = {0}\".format(v))"
   ]
  },
  {
   "cell_type": "markdown",
   "metadata": {
    "deletable": true,
    "editable": true
   },
   "source": [
    "### Vizier: [`astroquery.vizier`](http://astroquery.readthedocs.io/en/latest/vizier/vizier.html)<a id='vizier'></a>\n",
    "\n",
    "Let's query Vizier for the famous list of standard stars from [Landolt (1992)](http://adsabs.harvard.edu/abs/1992AJ....104..340L). The [`Table`](http://astropy.readthedocs.io/en/latest/table/) that is returned to you will have the same information as [this Vizier query page](http://vizier.u-strasbg.fr/viz-bin/VizieR-3?-source=II/183A/table2)."
   ]
  },
  {
   "cell_type": "code",
   "execution_count": null,
   "metadata": {
    "collapsed": false,
    "deletable": true,
    "editable": true
   },
   "outputs": [],
   "source": [
    "from astroquery.vizier import Vizier\n",
    "\n",
    "# Generic search using author and year format:\n",
    "table_list = Vizier.get_catalogs('Landolt 1992')\n",
    "\n",
    "table_list"
   ]
  },
  {
   "cell_type": "markdown",
   "metadata": {
    "deletable": true,
    "editable": true
   },
   "source": [
    "What gets returned is a `TableList` object, containing all of the tables that matched our (vague) query. You can see that astroquery will return the first 50 rows of each table by default. "
   ]
  },
  {
   "cell_type": "markdown",
   "metadata": {
    "deletable": true,
    "editable": true
   },
   "source": [
    "You could also search for a specific table by its catalog identifier, which is \"II/183A/table2\" for this table. We could have searched via catalog ID like this: "
   ]
  },
  {
   "cell_type": "code",
   "execution_count": null,
   "metadata": {
    "collapsed": false,
    "deletable": true,
    "editable": true
   },
   "outputs": [],
   "source": [
    "identifier = 'II/183A/table2'\n",
    "\n",
    "Vizier.get_catalogs(catalog=identifier)"
   ]
  },
  {
   "cell_type": "markdown",
   "metadata": {
    "deletable": true,
    "editable": true
   },
   "source": [
    "There's only one table this time, because this identifier is unique. Now let's get all rows of the table, instead of the first 50: "
   ]
  },
  {
   "cell_type": "code",
   "execution_count": null,
   "metadata": {
    "collapsed": false,
    "deletable": true,
    "editable": true
   },
   "outputs": [],
   "source": [
    "# Set the row limit to a very large number:\n",
    "Vizier.ROW_LIMIT = 1e10\n",
    "\n",
    "# Get the first table:\n",
    "result = Vizier.get_catalogs(catalog=identifier)[0]\n",
    "\n",
    "result"
   ]
  },
  {
   "cell_type": "markdown",
   "metadata": {
    "deletable": true,
    "editable": true
   },
   "source": [
    "This returns all 526 standard stars in the table. Let's see the distribution of colors, and the distribution on the sky:"
   ]
  },
  {
   "cell_type": "code",
   "execution_count": null,
   "metadata": {
    "collapsed": false,
    "deletable": true,
    "editable": true
   },
   "outputs": [],
   "source": [
    "%matplotlib inline\n",
    "import matplotlib.pyplot as plt\n",
    "\n",
    "import numpy as np\n",
    "\n",
    "fig = plt.figure(figsize=(12, 5))\n",
    "ax0 = fig.add_subplot(121)\n",
    "ax1 = fig.add_subplot(122, projection='hammer')\n",
    "\n",
    "# Plot histogram of B-V colors\n",
    "ax0.hist(result['B-V'])\n",
    "ax0.set_xlabel('$B-V$')\n",
    "ax0.set_aspect(1e-2)\n",
    "\n",
    "# Plot sky positions\n",
    "ra = Angle(result['RAJ2000'], u.hourangle).wrap_at(np.pi*u.rad)\n",
    "dec = Angle(result['DEJ2000'], u.degree)\n",
    "ax1.scatter(ra.radian, dec.radian, marker='.')\n",
    "ax1.grid()\n",
    "plt.show()"
   ]
  },
  {
   "cell_type": "code",
   "execution_count": null,
   "metadata": {
    "collapsed": true,
    "deletable": true,
    "editable": true
   },
   "outputs": [],
   "source": []
  }
 ],
 "metadata": {
  "kernelspec": {
   "display_name": "Python 3",
   "language": "python",
   "name": "python3"
  },
  "language_info": {
   "codemirror_mode": {
    "name": "ipython",
    "version": 3
   },
   "file_extension": ".py",
   "mimetype": "text/x-python",
   "name": "python",
   "nbconvert_exporter": "python",
   "pygments_lexer": "ipython3",
   "version": "3.5.4"
  }
 },
 "nbformat": 4,
 "nbformat_minor": 0
}
